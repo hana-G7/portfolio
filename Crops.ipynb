{
 "cells": [
  {
   "cell_type": "code",
   "execution_count": 522,
   "id": "12148559-ecda-4420-b0be-c5354e96742e",
   "metadata": {},
   "outputs": [
    {
     "name": "stdout",
     "output_type": "stream",
     "text": [
      "Scaled Features:\n",
      " [[0.         0.         0.         0.         0.         0.\n",
      "  0.         0.         0.5       ]\n",
      " [0.03076923 0.06666667 0.06666667 0.05263158 0.06666667 0.06666667\n",
      "  0.2        0.06666667 0.25      ]\n",
      " [0.07692308 0.13333333 0.13333333 0.13157895 0.13333333 0.13333333\n",
      "  0.4        0.13333333 0.0669873 ]\n",
      " [0.12307692 0.2        0.2        0.21052632 0.2        0.2\n",
      "  0.6        0.2        0.        ]\n",
      " [0.15384615 0.26666667 0.26666667 0.26315789 0.26666667 0.26666667\n",
      "  0.8        0.26666667 0.0669873 ]]\n",
      "Scaled Target:\n",
      " [[0.        ]\n",
      " [0.03076923]\n",
      " [0.07692308]\n",
      " [0.12307692]\n",
      " [0.15384615]]\n",
      "Cross-Validation RMSE: 128.1516523400897 JPY\n",
      "Ensemble RMSE: 21226818.85313275 JPY\n",
      "Predicted future profit (Ensemble): 106848536.11411697 JPY\n"
     ]
    }
   ],
   "source": [
    "import json\n",
    "import pandas as pd\n",
    "import numpy as np\n",
    "from sklearn.preprocessing import MinMaxScaler\n",
    "from sklearn.model_selection import train_test_split, GridSearchCV, cross_val_score\n",
    "from sklearn.ensemble import GradientBoostingRegressor, RandomForestRegressor, VotingRegressor\n",
    "from sklearn.metrics import mean_squared_error\n",
    "import math\n",
    "\n",
    "# 分析したいデータの例\n",
    "agriculture_data = [\n",
    "    {\"year\": 2010, \"crop_yield\": 40, \"water_usage\": 1400, \"fertilizer_usage\": 280, \"profit\": 7000, \"weather_index\": 70, \"market_price\": 300, \"temperature\": 25, \"humidity\": 60},\n",
    "    {\"year\": 2011, \"crop_yield\": 42, \"water_usage\": 1450, \"fertilizer_usage\": 290, \"profit\": 7200, \"weather_index\": 72, \"market_price\": 310, \"temperature\": 26, \"humidity\": 65},\n",
    "    {\"year\": 2012, \"crop_yield\": 45, \"water_usage\": 1500, \"fertilizer_usage\": 300, \"profit\": 7500, \"weather_index\": 75, \"market_price\": 320, \"temperature\": 27, \"humidity\": 70},\n",
    "    {\"year\": 2013, \"crop_yield\": 48, \"water_usage\": 1550, \"fertilizer_usage\": 310, \"profit\": 7800, \"weather_index\": 78, \"market_price\": 330, \"temperature\": 28, \"humidity\": 75},\n",
    "    {\"year\": 2014, \"crop_yield\": 50, \"water_usage\": 1600, \"fertilizer_usage\": 320, \"profit\": 8000, \"weather_index\": 80, \"market_price\": 340, \"temperature\": 29, \"humidity\": 80},\n",
    "    {\"year\": 2015, \"crop_yield\": 55, \"water_usage\": 1650, \"fertilizer_usage\": 330, \"profit\": 8500, \"weather_index\": 82, \"market_price\": 350, \"temperature\": 30, \"humidity\": 85},\n",
    "    {\"year\": 2016, \"crop_yield\": 60, \"water_usage\": 1700, \"fertilizer_usage\": 340, \"profit\": 9000, \"weather_index\": 85, \"market_price\": 360, \"temperature\": 31, \"humidity\": 80},\n",
    "    {\"year\": 2017, \"crop_yield\": 65, \"water_usage\": 1750, \"fertilizer_usage\": 350, \"profit\": 9500, \"weather_index\": 88, \"market_price\": 370, \"temperature\": 32, \"humidity\": 75},\n",
    "    {\"year\": 2018, \"crop_yield\": 70, \"water_usage\": 1800, \"fertilizer_usage\": 360, \"profit\": 10000, \"weather_index\": 90, \"market_price\": 380, \"temperature\": 33, \"humidity\": 70},\n",
    "    {\"year\": 2019, \"crop_yield\": 75, \"water_usage\": 1850, \"fertilizer_usage\": 370, \"profit\": 10500, \"weather_index\": 92, \"market_price\": 390, \"temperature\": 34, \"humidity\": 65},\n",
    "    {\"year\": 2020, \"crop_yield\": 80, \"water_usage\": 1900, \"fertilizer_usage\": 380, \"profit\": 11000, \"weather_index\": 95, \"market_price\": 400, \"temperature\": 35, \"humidity\": 60},\n",
    "    {\"year\": 2021, \"crop_yield\": 85, \"water_usage\": 1950, \"fertilizer_usage\": 390, \"profit\": 11500, \"weather_index\": 98, \"market_price\": 410, \"temperature\": 36, \"humidity\": 65},\n",
    "    {\"year\": 2022, \"crop_yield\": 90, \"water_usage\": 2000, \"fertilizer_usage\": 400, \"profit\": 12000, \"weather_index\": 100, \"market_price\": 420, \"temperature\": 37, \"humidity\": 70},\n",
    "    {\"year\": 2023, \"crop_yield\": 95, \"water_usage\": 2050, \"fertilizer_usage\": 410, \"profit\": 12500, \"weather_index\": 102, \"market_price\": 430, \"temperature\": 38, \"humidity\": 75},\n",
    "    {\"year\": 2024, \"crop_yield\": 100, \"water_usage\": 2100, \"fertilizer_usage\": 420, \"profit\": 13000, \"weather_index\": 105, \"market_price\": 440, \"temperature\": 39, \"humidity\": 80},\n",
    "    {\"year\": 2025, \"crop_yield\": 105, \"water_usage\": 2150, \"fertilizer_usage\": 430, \"profit\": 13500, \"weather_index\": 108, \"market_price\": 450, \"temperature\": 40, \"humidity\": 85}\n",
    "]\n",
    "\n",
    "# 農業データをDataFrameに変換\n",
    "df = pd.DataFrame(agriculture_data)\n",
    "\n",
    "# 特徴量とターゲットを分ける\n",
    "features = ['crop_yield', 'water_usage', 'fertilizer_usage', 'weather_index', 'market_price', 'temperature', 'humidity']\n",
    "target = 'profit'\n",
    "X = df[features]\n",
    "y = df[target]\n",
    "\n",
    "# 特徴量エンジニアリング: トレンドと季節性の追加\n",
    "df['trend'] = df['year'] - df['year'].min()\n",
    "df['seasonality'] = np.sin((df['year'] % 12) * (2 * np.pi / 12))\n",
    "\n",
    "# 特徴量を再設定\n",
    "features = ['crop_yield', 'water_usage', 'fertilizer_usage', 'weather_index', 'market_price', 'temperature', 'humidity', 'trend', 'seasonality']\n",
    "X = df[features]\n",
    "\n",
    "# スケーリング\n",
    "scaler_X = MinMaxScaler(feature_range=(0, 1))\n",
    "scaler_y = MinMaxScaler(feature_range=(0, 1))\n",
    "X_scaled = scaler_X.fit_transform(X)\n",
    "y_scaled = scaler_y.fit_transform(y.values.reshape(-1, 1))\n",
    "\n",
    "# スケーリング後のデータ範囲を確認\n",
    "print(\"Scaled Features:\\n\", X_scaled[:5])\n",
    "print(\"Scaled Target:\\n\", y_scaled[:5])\n",
    "\n",
    "# データをトレーニングセットとテストセットに分割\n",
    "X_train, X_test, y_train, y_test = train_test_split(X_scaled, y_scaled, test_size=0.2, shuffle=False)\n",
    "\n",
    "# アンサンブル学習モデルの構築\n",
    "gb_model = GradientBoostingRegressor(n_estimators=100, learning_rate=0.1)\n",
    "rf_model = RandomForestRegressor(n_estimators=100)\n",
    "ensemble_model = VotingRegressor(estimators=[('gb', gb_model), ('rf', rf_model)])\n",
    "\n",
    "# クロスバリデーションで評価\n",
    "scores = cross_val_score(ensemble_model, X_train, y_train.ravel(), cv=5, scoring='neg_mean_squared_error')\n",
    "print(f'Cross-Validation RMSE: {-scores.mean() * 10000} JPY')\n",
    "\n",
    "# モデルの学習\n",
    "ensemble_model.fit(X_train, y_train.ravel())\n",
    "\n",
    "# テストセットで予測\n",
    "y_pred_ensemble = ensemble_model.predict(X_test)\n",
    "\n",
    "# 予測値と実際の値を逆スケーリング\n",
    "y_pred_rescaled_ensemble = scaler_y.inverse_transform(y_pred_ensemble.reshape(-1, 1))\n",
    "y_test_rescaled = scaler_y.inverse_transform(y_test)\n",
    "\n",
    "# 評価（RMSEなど）\n",
    "rmse_ensemble = math.sqrt(mean_squared_error(y_test_rescaled, y_pred_rescaled_ensemble))\n",
    "print(f'Ensemble RMSE: {rmse_ensemble * 10000} JPY')\n",
    "\n",
    "# 未来のデータを予測\n",
    "future_data = X_scaled[-1].reshape(1, -1)\n",
    "future_profit_ensemble_scaled = ensemble_model.predict(future_data)\n",
    "future_profit_ensemble = scaler_y.inverse_transform(future_profit_ensemble_scaled.reshape(-1, 1))\n",
    "\n",
    "print(f\"Predicted future profit (Ensemble): {future_profit_ensemble[0][0] * 10000} JPY\")\n"
   ]
  },
  {
   "cell_type": "markdown",
   "id": "e178af9a-e826-4f05-8d84-5ae335b60ed1",
   "metadata": {},
   "source": [
    "1. 分析したいデータの属性を入力し、そのデータから収穫量と利益を予測する\n",
    "    year: 年\n",
    "    crop_yield: 作物の収量\n",
    "    water_usage: 水の使用量\n",
    "    fertilizer_usage: 肥料の使用量\n",
    "    profit: 利益\n",
    "    weather_index: 天気指数\n",
    "    market_price: 市場価格\n",
    "    temperature: 気温\n",
    "    humidity: 湿度\n",
    "   \n",
    "3. 特徴量として季節を追加し、分析しやすくする\n",
    "    df['trend'] = df['year'] - df['year'].min()\n",
    "    df['seasonality'] = np.sin((df['year'] % 12) * (2 * np.pi / 12))\n",
    "\n",
    "4. スケーリングをし、単位を整える\n",
    "    MinMaxScalerで単位を0-1に統一し、計算を効率化する。\n",
    "\n",
    "5. アンサンブル学習(ランダムフォレスト+勾配ブースティング)\n",
    "    複数のモデルを組み合わせるアンサンブル学習をすることによってそれぞれの弱点を補う。今回は回帰なのでランダムフォレストと勾配ブースティングを使用。\n",
    "\n",
    "6. クロスバリデーション\n",
    "    データセットを複数に分割してモデルを評価する。この手法を採用することにより過学習を防ぎ、モデルの汎用性を評価することができる。\n",
    "\n",
    "7. 逆スケーリング\n",
    "    計算の簡単化のためスケーリングをしたので、単位を元に戻すために逆スケーリングを行う。\n",
    "\n",
    "8. RMSE(平均事情誤差)\n",
    "    モデルの制度を高めるためRMSEを使用し、誤差を小さくしていく。"
   ]
  },
  {
   "cell_type": "markdown",
   "id": "3cb42fea-b402-466f-b6f8-b82471dda51f",
   "metadata": {},
   "source": []
  },
  {
   "cell_type": "code",
   "execution_count": null,
   "id": "54ce9f45-043e-4840-a2b6-8d2fe4ddaaec",
   "metadata": {},
   "outputs": [],
   "source": []
  }
 ],
 "metadata": {
  "kernelspec": {
   "display_name": "Python [conda env:base] *",
   "language": "python",
   "name": "conda-base-py"
  },
  "language_info": {
   "codemirror_mode": {
    "name": "ipython",
    "version": 3
   },
   "file_extension": ".py",
   "mimetype": "text/x-python",
   "name": "python",
   "nbconvert_exporter": "python",
   "pygments_lexer": "ipython3",
   "version": "3.12.7"
  }
 },
 "nbformat": 4,
 "nbformat_minor": 5
}

'''
分析したいデータの属性を入力し、そのデータから収穫量と利益を予測する year: 年 crop_yield: 作物の収量 water_usage: 水の使用量 fertilizer_usage: 肥料の使用量 profit: 利益 weather_index: 天気指数 market_price: 市場価格 temperature: 気温 humidity: 湿度

特徴量として季節を追加し、分析しやすくする df['trend'] = df['year'] - df['year'].min() df['seasonality'] = np.sin((df['year'] % 12) * (2 * np.pi / 12))

スケーリングをし、単位を整える MinMaxScalerで単位を0-1に統一し、計算を効率化する。

アンサンブル学習(ランダムフォレスト+勾配ブースティング) 複数のモデルを組み合わせるアンサンブル学習をすることによってそれぞれの弱点を補う。今回は回帰なのでランダムフォレストと勾配ブースティングを使用。

クロスバリデーション データセットを複数に分割してモデルを評価する。この手法を採用することにより過学習を防ぎ、モデルの汎用性を評価することができる。

逆スケーリング 計算の簡単化のためスケーリングをしたので、単位を元に戻すために逆スケーリングを行う。

RMSE(平均事情誤差) モデルの制度を高めるためRMSEを使用し、誤差を小さくしていく。

'''
