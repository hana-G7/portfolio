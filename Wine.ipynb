{
 "cells": [
  {
   "cell_type": "code",
   "execution_count": 989,
   "id": "7b2522ad-db7f-4251-b646-0c92140a2fb9",
   "metadata": {},
   "outputs": [
    {
     "name": "stdout",
     "output_type": "stream",
     "text": [
      "Requirement already satisfied: torch in c:\\users\\yuko_\\anaconda3\\lib\\site-packages (2.5.1)\n",
      "Requirement already satisfied: filelock in c:\\users\\yuko_\\anaconda3\\lib\\site-packages (from torch) (3.13.1)\n",
      "Requirement already satisfied: typing-extensions>=4.8.0 in c:\\users\\yuko_\\anaconda3\\lib\\site-packages (from torch) (4.11.0)\n",
      "Requirement already satisfied: networkx in c:\\users\\yuko_\\anaconda3\\lib\\site-packages (from torch) (3.3)\n",
      "Requirement already satisfied: jinja2 in c:\\users\\yuko_\\anaconda3\\lib\\site-packages (from torch) (3.1.4)\n",
      "Requirement already satisfied: fsspec in c:\\users\\yuko_\\anaconda3\\lib\\site-packages (from torch) (2024.6.1)\n",
      "Requirement already satisfied: setuptools in c:\\users\\yuko_\\anaconda3\\lib\\site-packages (from torch) (75.1.0)\n",
      "Requirement already satisfied: sympy==1.13.1 in c:\\users\\yuko_\\anaconda3\\lib\\site-packages (from torch) (1.13.1)\n",
      "Requirement already satisfied: mpmath<1.4,>=1.1.0 in c:\\users\\yuko_\\anaconda3\\lib\\site-packages (from sympy==1.13.1->torch) (1.3.0)\n",
      "Requirement already satisfied: MarkupSafe>=2.0 in c:\\users\\yuko_\\anaconda3\\lib\\site-packages (from jinja2->torch) (2.1.3)\n",
      "Note: you may need to restart the kernel to use updated packages.\n"
     ]
    }
   ],
   "source": [
    "%pip install torch\n",
    "import torch\n",
    "import torch.nn as nn\n",
    "import torch.nn.functional as F\n",
    "from sklearn.datasets import load_wine\n",
    "from sklearn.preprocessing import StandardScaler\n",
    "from torch.utils.data import DataLoader, TensorDataset\n",
    "from torch.optim.lr_scheduler import StepLR\n",
    "from torch.optim.lr_scheduler import ReduceLROnPlateau"
   ]
  },
  {
   "cell_type": "code",
   "execution_count": 990,
   "id": "27fbc102-d123-4ffa-bafb-5d359ad1e3f0",
   "metadata": {},
   "outputs": [],
   "source": [
    "# ワインデータセットの読み込み\n",
    "wine = load_wine()\n",
    "x = wine['data']\n",
    "t = wine['target']"
   ]
  },
  {
   "cell_type": "code",
   "execution_count": 991,
   "id": "ae9048d3-8486-4163-b1f0-7092d7ee9de5",
   "metadata": {},
   "outputs": [],
   "source": [
    "# データの標準化 \n",
    "scaler = StandardScaler() \n",
    "x = scaler.fit_transform(x) \n",
    "x = torch.tensor(x, dtype=torch.float32) \n",
    "t = torch.tensor(t, dtype=torch.int64)"
   ]
  },
  {
   "cell_type": "code",
   "execution_count": 992,
   "id": "c525af23-1022-42ba-a061-a37826e76636",
   "metadata": {},
   "outputs": [],
   "source": [
    "# データセットの作成\n",
    "dataset = torch.utils.data.TensorDataset(x,t)"
   ]
  },
  {
   "cell_type": "code",
   "execution_count": 993,
   "id": "0b04c5f8-2b0a-40d0-b264-0232aadd701a",
   "metadata": {},
   "outputs": [],
   "source": [
    "# データの分割 \n",
    "n_train = int(len(dataset) * 0.6) \n",
    "n_val = int(len(dataset) * 0.2) \n",
    "n_test = len(dataset) - n_train - n_val"
   ]
  },
  {
   "cell_type": "code",
   "execution_count": 994,
   "id": "f89a66a6-b296-4a02-964d-9add78b29fa9",
   "metadata": {},
   "outputs": [],
   "source": [
    "# 乱数シードを設定 \n",
    "torch.manual_seed(0) \n",
    "# データセットの分割\n",
    "train_dataset, val_dataset, test_dataset = torch.utils.data.random_split(dataset, [n_train, n_val, n_test])"
   ]
  },
  {
   "cell_type": "code",
   "execution_count": 995,
   "id": "09387e53-5801-4659-8e09-db3c226a616a",
   "metadata": {},
   "outputs": [],
   "source": [
    "# DataLoaderの作成(バッチサイズ)train_loader = DataLoader(train_dataset, batch_size=16, shuffle=True)\n",
    "train_loader = DataLoader(train_dataset, batch_size=64, shuffle=True)\n",
    "val_loader = DataLoader(val_dataset, batch_size=32, shuffle=False) \n",
    "test_loader = DataLoader(test_dataset, batch_size=32, shuffle=False)"
   ]
  },
  {
   "cell_type": "code",
   "execution_count": 996,
   "id": "6f5f18bc-b5b9-40b1-932d-4bd4225b18b3",
   "metadata": {},
   "outputs": [],
   "source": [
    "# ネットワークの定義 13-64-32-16-3（ワインデータセットは13個の特徴量） \n",
    "class Net(nn.Module): \n",
    "    def __init__(self): \n",
    "        super().__init__() \n",
    "        self.fc1 = nn.Linear(13, 256)\n",
    "        self.bn1 = nn.BatchNorm1d(256)\n",
    "        self.fc2 = nn.Linear(256, 128)\n",
    "        self.bn2 = nn.BatchNorm1d(128)\n",
    "        self.fc3 = nn.Linear(128, 64)\n",
    "        self.bn3 = nn.BatchNorm1d(64)\n",
    "        self.fc4 = nn.Linear(64, 32)\n",
    "        self.bn4 = nn.BatchNorm1d(32)\n",
    "        self.fc5 = nn.Linear(32, 16)\n",
    "        self.bn5 = nn.BatchNorm1d(16)\n",
    "        self.fc6 = nn.Linear(16, 3)\n",
    "        self.dropout = nn.Dropout(0.5) # 50%のドロップアウト率\n",
    "        \n",
    "    def forward(self, x): \n",
    "        x = F.relu(self.fc1(x)) \n",
    "        x = self.dropout(x)\n",
    "        x = F.relu(self.fc2(x)) \n",
    "        x = self.dropout(x)\n",
    "        x = F.relu(self.fc3(x)) \n",
    "        x = self.dropout(x) \n",
    "        x = F.relu(self.fc4(x)) \n",
    "        x = self.dropout(x) \n",
    "        x = F.relu(self.fc5(x)) \n",
    "        x = self.fc6(x) \n",
    "        return x"
   ]
  },
  {
   "cell_type": "code",
   "execution_count": 997,
   "id": "07d4162d-6263-49e7-9edc-12591d7197e1",
   "metadata": {},
   "outputs": [],
   "source": [
    "# 重みの初期化 \n",
    "def weights_init(m): \n",
    "    if isinstance(m, nn.Linear): \n",
    "        nn.init.xavier_normal_(m.weight) \n",
    "        nn.init.zeros_(m.bias)"
   ]
  },
  {
   "cell_type": "code",
   "execution_count": 998,
   "id": "3d37d213-96c1-4256-b536-268e432b13f4",
   "metadata": {},
   "outputs": [],
   "source": [
    "# デバイスの設定 \n",
    "device = torch.device('cuda:0' if torch.cuda.is_available() else 'cpu')"
   ]
  },
  {
   "cell_type": "code",
   "execution_count": 999,
   "id": "12ff3855-0236-4c8e-8df2-c2cf2d8ade1a",
   "metadata": {},
   "outputs": [],
   "source": [
    "# モデルのインスタンス化と最適化アルゴリズムの設定 \n",
    "torch.manual_seed(0) \n",
    "net = Net().to(device) \n",
    "net.apply(weights_init) \n",
    "optimizer = torch.optim.SGD(net.parameters(), lr=0.0001, momentum=0.9, weight_decay=1e-4)"
   ]
  },
  {
   "cell_type": "code",
   "execution_count": 1011,
   "id": "7ad18af7-27be-4444-9815-f01a3febd12b",
   "metadata": {},
   "outputs": [],
   "source": [
    "# 学習率スケジューラの設定 \n",
    "scheduler = torch.optim.lr_scheduler.ReduceLROnPlateau(optimizer, mode='min', factor=0.1, patience=5)\n",
    "# エポック数の設定 \n",
    "max_epoch = 100"
   ]
  },
  {
   "cell_type": "code",
   "execution_count": 1039,
   "id": "e85a2569-e32d-4a03-8300-343703b17a3d",
   "metadata": {},
   "outputs": [
    {
     "name": "stdout",
     "output_type": "stream",
     "text": [
      "Epoch 1/100, Validation Accuracy: 0.63\n",
      "Epoch 2/100, Validation Accuracy: 0.60\n",
      "Epoch 3/100, Validation Accuracy: 0.60\n",
      "Epoch 4/100, Validation Accuracy: 0.71\n",
      "Epoch 5/100, Validation Accuracy: 0.74\n",
      "Epoch 6/100, Validation Accuracy: 0.91\n",
      "Epoch 7/100, Validation Accuracy: 0.89\n",
      "Epoch 8/100, Validation Accuracy: 0.97\n",
      "Epoch 9/100, Validation Accuracy: 0.97\n",
      "Epoch 10/100, Validation Accuracy: 0.97\n",
      "Epoch 11/100, Validation Accuracy: 0.94\n",
      "Epoch 12/100, Validation Accuracy: 0.97\n",
      "Epoch 13/100, Validation Accuracy: 0.94\n",
      "Epoch 14/100, Validation Accuracy: 0.86\n",
      "Epoch 15/100, Validation Accuracy: 0.83\n",
      "Epoch 16/100, Validation Accuracy: 0.89\n",
      "Epoch 17/100, Validation Accuracy: 0.91\n",
      "Epoch 18/100, Validation Accuracy: 0.91\n",
      "Early stopping due to no improvement in validation accuracy\n"
     ]
    }
   ],
   "source": [
    "# 変数の初期化 \n",
    "best_val_accuracy = 0 \n",
    "best_model_state = None \n",
    "patience_counter = 0 \n",
    "patience_threshold = 10 # 早期停止の閾値\n",
    "\n",
    "for epoch in range(max_epoch): \n",
    "    net.train() \n",
    "    for batch in train_loader: \n",
    "        x, t = batch \n",
    "        x = x.to(device) \n",
    "        t = t.to(device) \n",
    "        y = net(x) \n",
    "        loss = F.cross_entropy(y, t) \n",
    "        \n",
    "        optimizer.zero_grad() \n",
    "        loss.backward() \n",
    "        optimizer.step() \n",
    "\n",
    "# 学習率のステップを更新\n",
    "    net.eval() \n",
    "    val_loss = 0\n",
    "    with torch.no_grad(): \n",
    "        total_correct = 0 \n",
    "        for batch in val_loader: \n",
    "            x, t = batch \n",
    "            x = x.to(device) \n",
    "            t = t.to(device) \n",
    "            y = net(x) \n",
    "            y_label = torch.argmax(y, dim=1) \n",
    "            val_loss += F.cross_entropy(y, t, reduction='sum').item() \n",
    "            y_label = torch.argmax(y, dim=1)\n",
    "            total_correct += (y_label == t).sum().item() \n",
    "        val_accuracy = total_correct / len(val_loader.dataset) \n",
    "        val_loss /= len(val_loader.dataset)\n",
    "        scheduler.step(val_loss)\n",
    "    print(f'Epoch {epoch + 1}/{max_epoch}, Validation Accuracy: {val_accuracy:.2f}') \n",
    "    # 早期停止のチェック \n",
    "    if val_accuracy > best_val_accuracy: \n",
    "        best_val_accuracy = val_accuracy \n",
    "        best_model_state = net.state_dict() \n",
    "        patience_counter = 0 \n",
    "    else: \n",
    "        patience_counter += 1 \n",
    "        if patience_counter >= patience_threshold: \n",
    "            print(\"Early stopping due to no improvement in validation accuracy\") \n",
    "            break\n"
   ]
  },
  {
   "cell_type": "code",
   "execution_count": 1045,
   "id": "af49ed36-5f12-4ddf-9f9a-1a4cef6f55a8",
   "metadata": {},
   "outputs": [],
   "source": [
    "# ベストモデルのロード \n",
    "if best_model_state is not None: \n",
    "    net.load_state_dict(best_model_state) \n",
    "else: \n",
    "    print(\"No best model state found. Training did not improve validation accuracy.\")"
   ]
  },
  {
   "cell_type": "code",
   "execution_count": 1047,
   "id": "ebaf9437-da3e-402a-82fb-e92746f63424",
   "metadata": {},
   "outputs": [
    {
     "name": "stdout",
     "output_type": "stream",
     "text": [
      "Final Test Accuracy: 0.92\n"
     ]
    }
   ],
   "source": [
    "# 最終テストデータでの評価 \n",
    "net.eval() \n",
    "with torch.no_grad(): \n",
    "    total_correct = 0 \n",
    "    for batch in test_loader: \n",
    "        x, t = batch \n",
    "        x = x.to(device) \n",
    "        t = t.to(device) \n",
    "        y = net(x) \n",
    "        y_label = torch.argmax(y, dim=1) \n",
    "        total_correct += (y_label == t).sum().item() \n",
    "    final_accuracy = total_correct / len(test_loader.dataset) \n",
    "    print(f'Final Test Accuracy: {final_accuracy:.2f}')"
   ]
  },
  {
   "cell_type": "code",
   "execution_count": 1049,
   "id": "fe9ed573-d9d1-424b-ba2f-7bafd18375d5",
   "metadata": {},
   "outputs": [
    {
     "data": {
      "text/plain": [
       "tensor(0.9143)"
      ]
     },
     "execution_count": 1049,
     "metadata": {},
     "output_type": "execute_result"
    }
   ],
   "source": [
    "#検証データの正解率\n",
    "calc_accuracy(val_loader)"
   ]
  },
  {
   "cell_type": "code",
   "execution_count": 1051,
   "id": "29d04f9c-fbb8-4d4c-9162-0d8e73c58203",
   "metadata": {},
   "outputs": [
    {
     "data": {
      "text/plain": [
       "tensor(0.9189)"
      ]
     },
     "execution_count": 1051,
     "metadata": {},
     "output_type": "execute_result"
    }
   ],
   "source": [
    "#テストデータの正解率\n",
    "calc_accuracy(test_loader)"
   ]
  },
  {
   "cell_type": "code",
   "execution_count": null,
   "id": "69f7af40-546d-4f0d-ad60-9ff89d115025",
   "metadata": {},
   "outputs": [],
   "source": []
  },
  {
   "cell_type": "code",
   "execution_count": null,
   "id": "75698bb4-b084-44a9-8c2c-fd2076d4d25d",
   "metadata": {},
   "outputs": [],
   "source": []
  }
 ],
 "metadata": {
  "kernelspec": {
   "display_name": "Python [conda env:base] *",
   "language": "python",
   "name": "conda-base-py"
  },
  "language_info": {
   "codemirror_mode": {
    "name": "ipython",
    "version": 3
   },
   "file_extension": ".py",
   "mimetype": "text/x-python",
   "name": "python",
   "nbconvert_exporter": "python",
   "pygments_lexer": "ipython3",
   "version": "3.12.7"
  }
 },
 "nbformat": 4,
 "nbformat_minor": 5
}
